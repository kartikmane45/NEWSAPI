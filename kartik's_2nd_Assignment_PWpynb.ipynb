{
  "nbformat": 4,
  "nbformat_minor": 0,
  "metadata": {
    "colab": {
      "provenance": [],
      "authorship_tag": "ABX9TyPa6+oQ0dR14hZli2iX8ctU",
      "include_colab_link": true
    },
    "kernelspec": {
      "name": "python3",
      "display_name": "Python 3"
    },
    "language_info": {
      "name": "python"
    }
  },
  "cells": [
    {
      "cell_type": "markdown",
      "metadata": {
        "id": "view-in-github",
        "colab_type": "text"
      },
      "source": [
        "<a href=\"https://colab.research.google.com/github/kartikmane45/NEWSAPI/blob/main/kartik's_2nd_Assignment_PWpynb.ipynb\" target=\"_parent\"><img src=\"https://colab.research.google.com/assets/colab-badge.svg\" alt=\"Open In Colab\"/></a>"
      ]
    },
    {
      "cell_type": "markdown",
      "source": [
        "Q-1> Discuss string slicing and provide examples.\n",
        "\n",
        "String slicing in Python allows you to extract a substring from a string using a specified range of indices. The syntax for slicing is string[start:stop:step]:\n",
        "\n",
        "start is the index where the slice begins.\n",
        "\n",
        "stop is the index where the slice ends (but does not include).\n",
        "\n",
        "step determines the interval between indices (default is 1). Examples:"
      ],
      "metadata": {
        "id": "ODH_BgAucgeK"
      }
    },
    {
      "cell_type": "code",
      "source": [
        "\n",
        "\n",
        "s = \"Hello, World!\"\n",
        "s[::-1]\n"
      ],
      "metadata": {
        "colab": {
          "base_uri": "https://localhost:8080/",
          "height": 36
        },
        "id": "njsZB6NVckuZ",
        "outputId": "e72f591d-ee8c-485f-a150-86079f1f23a9"
      },
      "execution_count": 1,
      "outputs": [
        {
          "output_type": "execute_result",
          "data": {
            "text/plain": [
              "'!dlroW ,olleH'"
            ],
            "application/vnd.google.colaboratory.intrinsic+json": {
              "type": "string"
            }
          },
          "metadata": {},
          "execution_count": 1
        }
      ]
    },
    {
      "cell_type": "code",
      "source": [
        "S = \"kartikmane\"\n",
        "S[0:4:2]"
      ],
      "metadata": {
        "id": "uMjd_2x6daQ7"
      },
      "execution_count": null,
      "outputs": []
    },
    {
      "cell_type": "markdown",
      "source": [
        "Q-2> Explain the key features of lists in python.\n",
        "\n",
        "In Python, lists are versatile and mutable collections with these key features:\n",
        "\n",
        "1.Ordered: Lists maintain the order of elements.\n",
        "\n",
        "2.Mutable: You can modify elements, add, or remove items.\n",
        "\n",
        "3.Indexed: Elements are accessed via zero-based indices.\n",
        "\n",
        "4.Dynamic: Lists can grow or shrink in size.\n",
        "\n",
        "5.Heterogeneous: They can store elements of different data types.\n",
        "\n",
        "6.Iterable: You can loop through elements using iteration constructs.\n",
        "\n",
        "Q-3> Describe how to access, modify, and delete elements in a list with examples.\n",
        "\n",
        "1.Accessing Elements:\n",
        "\n",
        "Use indices to access elements.\n",
        "\n",
        "2.Modifying Elements:\n",
        "\n",
        "Assign a new value to a specific index.\n",
        "\n",
        "3.Deleting Elements:\n",
        "\n",
        "Use del statement or pop() method to remove elements.\n",
        "\n",
        "Examples:"
      ],
      "metadata": {
        "id": "mbuUJp0LdncI"
      }
    },
    {
      "cell_type": "code",
      "source": [],
      "metadata": {
        "id": "lyjPXwOjd7em"
      },
      "execution_count": 2,
      "outputs": []
    },
    {
      "cell_type": "markdown",
      "source": [],
      "metadata": {
        "id": "-QOcZjSDdocs"
      }
    },
    {
      "cell_type": "code",
      "source": [
        "#2. Modifying Elements:\n",
        "my_list[1] = 99\n",
        "print(my_list)"
      ],
      "metadata": {
        "colab": {
          "base_uri": "https://localhost:8080/",
          "height": 182
        },
        "id": "3Nn_F6xSd5jr",
        "outputId": "01490bb5-1475-4b47-f078-2f8751222c0e"
      },
      "execution_count": 3,
      "outputs": [
        {
          "output_type": "error",
          "ename": "NameError",
          "evalue": "name 'my_list' is not defined",
          "traceback": [
            "\u001b[0;31m---------------------------------------------------------------------------\u001b[0m",
            "\u001b[0;31mNameError\u001b[0m                                 Traceback (most recent call last)",
            "\u001b[0;32m<ipython-input-3-671a33827e7b>\u001b[0m in \u001b[0;36m<cell line: 2>\u001b[0;34m()\u001b[0m\n\u001b[1;32m      1\u001b[0m \u001b[0;31m#2. Modifying Elements:\u001b[0m\u001b[0;34m\u001b[0m\u001b[0;34m\u001b[0m\u001b[0m\n\u001b[0;32m----> 2\u001b[0;31m \u001b[0mmy_list\u001b[0m\u001b[0;34m[\u001b[0m\u001b[0;36m1\u001b[0m\u001b[0;34m]\u001b[0m \u001b[0;34m=\u001b[0m \u001b[0;36m99\u001b[0m\u001b[0;34m\u001b[0m\u001b[0;34m\u001b[0m\u001b[0m\n\u001b[0m\u001b[1;32m      3\u001b[0m \u001b[0mprint\u001b[0m\u001b[0;34m(\u001b[0m\u001b[0mmy_list\u001b[0m\u001b[0;34m)\u001b[0m\u001b[0;34m\u001b[0m\u001b[0;34m\u001b[0m\u001b[0m\n",
            "\u001b[0;31mNameError\u001b[0m: name 'my_list' is not defined"
          ]
        }
      ]
    }
  ]
}